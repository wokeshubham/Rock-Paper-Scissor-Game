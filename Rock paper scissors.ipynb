{
 "cells": [
  {
   "cell_type": "code",
   "execution_count": 1,
   "source": [
    "import random"
   ],
   "outputs": [],
   "metadata": {}
  },
  {
   "cell_type": "code",
   "execution_count": 5,
   "source": [
    "def play():\r\n",
    "    user = input(\" 'r' for rock, 'p' for paper or 's' for scissors\")\r\n",
    "    computer = random.choice(['r','p','s'])\r\n",
    "\r\n",
    "    if user == computer:\r\n",
    "        return 'It\\'s a tie'\r\n",
    "\r\n",
    "    # r > s, s > p, p > r\r\n",
    "\r\n",
    "    if is_win(user, computer):\r\n",
    "        return 'You Won'\r\n",
    "\r\n",
    "    return 'You Lost'\r\n",
    "\r\n",
    "def is_win(player, opponent):\r\n",
    "    #return true is player wins  \r\n",
    "    if (player == 'r' and opponent == 's') or (player == 's' and opponent == 'p') \\\r\n",
    "        or (player == 'p' and opponent == 'r'):\r\n",
    "        return True\r\n",
    "\r\n",
    "print(play())"
   ],
   "outputs": [
    {
     "output_type": "stream",
     "name": "stdout",
     "text": [
      "You Won\n"
     ]
    }
   ],
   "metadata": {}
  }
 ],
 "metadata": {
  "orig_nbformat": 4,
  "language_info": {
   "name": "python",
   "version": "3.9.5",
   "mimetype": "text/x-python",
   "codemirror_mode": {
    "name": "ipython",
    "version": 3
   },
   "pygments_lexer": "ipython3",
   "nbconvert_exporter": "python",
   "file_extension": ".py"
  },
  "kernelspec": {
   "name": "python3",
   "display_name": "Python 3.9.5 64-bit"
  },
  "interpreter": {
   "hash": "1afba1360193b7fdd0836cfa2e682bfa6d6030ea15d1e751f02009cbe6e49f3f"
  }
 },
 "nbformat": 4,
 "nbformat_minor": 2
}